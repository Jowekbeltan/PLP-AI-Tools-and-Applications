{
 "cells": [
  {
   "cell_type": "code",
   "execution_count": null,
   "id": "70b2ac9a",
   "metadata": {},
   "outputs": [],
   "source": [
    "# Task 3 — NLP with spaCy: NER and Sentiment\n",
    "\n",
    "import spacy\n",
    "from textblob import TextBlob\n",
    "\n",
    "# Load spaCy model\n",
    "nlp = spacy.load(\"en_core_web_sm\")\n",
    "\n",
    "# Sample Amazon reviews\n",
    "reviews = [\n",
    "    \"I love my new iPhone 15 Pro! The camera is amazing.\",\n",
    "    \"This Samsung TV broke after a week. Terrible quality.\",\n",
    "    \"Sony headphones have incredible sound and comfort.\",\n",
    "    \"The Dell laptop is fast but the battery dies too soon.\"\n",
    "]\n",
    "\n",
    "for review in reviews:\n",
    "    doc = nlp(review)\n",
    "    print(f\"\\n📝 Review: {review}\")\n",
    "    print(\"Named Entities:\")\n",
    "    for ent in doc.ents:\n",
    "        print(f\"  - {ent.text} ({ent.label_})\")\n",
    "\n",
    "    # Sentiment using TextBlob\n",
    "    polarity = TextBlob(review).sentiment.polarity\n",
    "    sentiment = \"Positive 😀\" if polarity > 0 else \"Negative 😞\" if polarity < 0 else \"Neutral 😐\"\n",
    "    print(\"Sentiment:\", sentiment)\n"
   ]
  }
 ],
 "metadata": {
  "kernelspec": {
   "display_name": "Python 3",
   "language": "python",
   "name": "python3"
  },
  "language_info": {
   "codemirror_mode": {
    "name": "ipython",
    "version": 3
   },
   "file_extension": ".py",
   "mimetype": "text/x-python",
   "name": "python",
   "nbconvert_exporter": "python",
   "pygments_lexer": "ipython3",
   "version": "3.11.9"
  }
 },
 "nbformat": 4,
 "nbformat_minor": 5
}
